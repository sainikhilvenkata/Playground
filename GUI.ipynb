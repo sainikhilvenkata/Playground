{
  "nbformat": 4,
  "nbformat_minor": 0,
  "metadata": {
    "colab": {
      "name": "GUI.ipynb",
      "provenance": [],
      "authorship_tag": "ABX9TyOlKsB3yNHu6/TDstx3rIJp",
      "include_colab_link": true
    },
    "kernelspec": {
      "name": "python3",
      "display_name": "Python 3"
    }
  },
  "cells": [
    {
      "cell_type": "markdown",
      "metadata": {
        "id": "view-in-github",
        "colab_type": "text"
      },
      "source": [
        "<a href=\"https://colab.research.google.com/github/sainikhilvenkata/Playground/blob/master/GUI.ipynb\" target=\"_parent\"><img src=\"https://colab.research.google.com/assets/colab-badge.svg\" alt=\"Open In Colab\"/></a>"
      ]
    },
    {
      "cell_type": "code",
      "metadata": {
        "id": "BsIEHkzEWSm-"
      },
      "source": [
        "import numpy as np\n",
        "import tensorflow as tf\n",
        "from tensorflow import keras\n",
        "\n",
        "from IPython.display import Image\n",
        "import matplotlib.pyplot as plt\n",
        "import matplotlib.cm as cm\n"
      ],
      "execution_count": 1,
      "outputs": []
    },
    {
      "cell_type": "code",
      "metadata": {
        "id": "JzrVoxs-WWxS"
      },
      "source": [
        ""
      ],
      "execution_count": 1,
      "outputs": []
    },
    {
      "cell_type": "code",
      "metadata": {
        "id": "N2DIom_TWaOp"
      },
      "source": [
        "\n",
        "def get_img_array(img_path, size):\n",
        "    img = keras.preprocessing.image.load_img(img_path, target_size=size)\n",
        "    array = keras.preprocessing.image.img_to_array(img)\n",
        "    array = np.expand_dims(array, axis=0)\n",
        "    return array\n",
        "\n",
        "\n",
        "def make_gradcam_heatmap(\n",
        "    img_array, model, last_conv_layer_name, classifier_layer_names\n",
        "):\n",
        "    last_conv_layer = model.get_layer(last_conv_layer_name)\n",
        "    last_conv_layer_model = keras.Model(model.inputs, last_conv_layer.output)\n",
        "\n",
        "    classifier_input = keras.Input(shape=last_conv_layer.output.shape[1:])\n",
        "    x = classifier_input\n",
        "    for layer_name in classifier_layer_names:\n",
        "        x = model.get_layer(layer_name)(x)\n",
        "    classifier_model = keras.Model(classifier_input, x)\n",
        "\n",
        "    with tf.GradientTape() as tape:\n",
        "        last_conv_layer_output = last_conv_layer_model(img_array)\n",
        "        tape.watch(last_conv_layer_output)\n",
        "        preds = classifier_model(last_conv_layer_output)\n",
        "        top_pred_index = tf.argmax(preds[0])\n",
        "        top_class_channel = preds[:, top_pred_index]\n",
        "\n",
        "    grads = tape.gradient(top_class_channel, last_conv_layer_output)\n",
        "\n",
        "    pooled_grads = tf.reduce_mean(grads, axis=(0, 1, 2))\n",
        "\n",
        "    last_conv_layer_output = last_conv_layer_output.numpy()[0]\n",
        "    pooled_grads = pooled_grads.numpy()\n",
        "    for i in range(pooled_grads.shape[-1]):\n",
        "        last_conv_layer_output[:, :, i] *= pooled_grads[i]\n",
        "\n",
        "    heatmap = np.mean(last_conv_layer_output, axis=-1)\n",
        "    heatmap = np.maximum(heatmap, 0) / np.max(heatmap)\n",
        "    return heatmap\n",
        "\n"
      ],
      "execution_count": 2,
      "outputs": []
    },
    {
      "cell_type": "code",
      "metadata": {
        "colab": {
          "base_uri": "https://localhost:8080/",
          "height": 231
        },
        "id": "7At-KV0DWc6k",
        "outputId": "0159e75d-c7a1-48c9-a527-a45b8796cf1d"
      },
      "source": [
        "\n",
        "img_array = preprocess_input(get_img_array(img_path, size=img_size))\n",
        "\n",
        "model = model_builder(weights=\"imagenet\")\n",
        "\n",
        "preds = model.predict(img_array)\n",
        "print(\"Predicted:\", decode_predictions(preds, top=1)[0])\n",
        "\n",
        "heatmap = make_gradcam_heatmap(\n",
        "    img_array, model, last_conv_layer_name, classifier_layer_names\n",
        ")\n",
        "\n",
        "plt.matshow(heatmap)\n",
        "plt.show()\n",
        "\n"
      ],
      "execution_count": 3,
      "outputs": [
        {
          "output_type": "error",
          "ename": "NameError",
          "evalue": "ignored",
          "traceback": [
            "\u001b[0;31m---------------------------------------------------------------------------\u001b[0m",
            "\u001b[0;31mNameError\u001b[0m                                 Traceback (most recent call last)",
            "\u001b[0;32m<ipython-input-3-1bff02acbf5c>\u001b[0m in \u001b[0;36m<module>\u001b[0;34m()\u001b[0m\n\u001b[1;32m      1\u001b[0m \u001b[0;34m\u001b[0m\u001b[0m\n\u001b[0;32m----> 2\u001b[0;31m \u001b[0mimg_array\u001b[0m \u001b[0;34m=\u001b[0m \u001b[0mpreprocess_input\u001b[0m\u001b[0;34m(\u001b[0m\u001b[0mget_img_array\u001b[0m\u001b[0;34m(\u001b[0m\u001b[0mimg_path\u001b[0m\u001b[0;34m,\u001b[0m \u001b[0msize\u001b[0m\u001b[0;34m=\u001b[0m\u001b[0mimg_size\u001b[0m\u001b[0;34m)\u001b[0m\u001b[0;34m)\u001b[0m\u001b[0;34m\u001b[0m\u001b[0;34m\u001b[0m\u001b[0m\n\u001b[0m\u001b[1;32m      3\u001b[0m \u001b[0;34m\u001b[0m\u001b[0m\n\u001b[1;32m      4\u001b[0m \u001b[0mmodel\u001b[0m \u001b[0;34m=\u001b[0m \u001b[0mmodel_builder\u001b[0m\u001b[0;34m(\u001b[0m\u001b[0mweights\u001b[0m\u001b[0;34m=\u001b[0m\u001b[0;34m\"imagenet\"\u001b[0m\u001b[0;34m)\u001b[0m\u001b[0;34m\u001b[0m\u001b[0;34m\u001b[0m\u001b[0m\n\u001b[1;32m      5\u001b[0m \u001b[0;34m\u001b[0m\u001b[0m\n",
            "\u001b[0;31mNameError\u001b[0m: name 'preprocess_input' is not defined"
          ]
        }
      ]
    },
    {
      "cell_type": "code",
      "metadata": {
        "id": "85Z6lSXzWfeg"
      },
      "source": [
        "\n",
        "img = keras.preprocessing.image.load_img(img_path)\n",
        "img = keras.preprocessing.image.img_to_array(img)\n",
        "\n",
        "heatmap = np.uint8(255 * heatmap)\n",
        "\n",
        "jet = cm.get_cmap(\"jet\")\n",
        "\n",
        "jet_colors = jet(np.arange(256))[:, :3]\n",
        "jet_heatmap = jet_colors[heatmap]\n",
        "\n",
        "jet_heatmap = keras.preprocessing.image.array_to_img(jet_heatmap)\n",
        "jet_heatmap = jet_heatmap.resize((img.shape[1], img.shape[0]))\n",
        "jet_heatmap = keras.preprocessing.image.img_to_array(jet_heatmap)\n",
        "\n",
        "superimposed_img = jet_heatmap * 1 + img\n",
        "superimposed_img = keras.preprocessing.image.array_to_img(superimposed_img)\n",
        "\n",
        "save_path = \"/content/static/final image.jpg\"\n",
        "superimposed_img.save(save_path)\n",
        "\n",
        "display(Image(save_path))\n"
      ],
      "execution_count": null,
      "outputs": []
    },
    {
      "cell_type": "code",
      "metadata": {
        "colab": {
          "base_uri": "https://localhost:8080/"
        },
        "id": "sVJb-Yq_XX0L",
        "outputId": "27f0661b-c9a0-4592-8c54-a82e5334acd1"
      },
      "source": [
        "!pip install flask-ngrok"
      ],
      "execution_count": 3,
      "outputs": [
        {
          "output_type": "stream",
          "text": [
            "Requirement already satisfied: flask-ngrok in /usr/local/lib/python3.6/dist-packages (0.0.25)\n",
            "Requirement already satisfied: Flask>=0.8 in /usr/local/lib/python3.6/dist-packages (from flask-ngrok) (1.1.2)\n",
            "Requirement already satisfied: requests in /usr/local/lib/python3.6/dist-packages (from flask-ngrok) (2.23.0)\n",
            "Requirement already satisfied: click>=5.1 in /usr/local/lib/python3.6/dist-packages (from Flask>=0.8->flask-ngrok) (7.1.2)\n",
            "Requirement already satisfied: Werkzeug>=0.15 in /usr/local/lib/python3.6/dist-packages (from Flask>=0.8->flask-ngrok) (1.0.1)\n",
            "Requirement already satisfied: itsdangerous>=0.24 in /usr/local/lib/python3.6/dist-packages (from Flask>=0.8->flask-ngrok) (1.1.0)\n",
            "Requirement already satisfied: Jinja2>=2.10.1 in /usr/local/lib/python3.6/dist-packages (from Flask>=0.8->flask-ngrok) (2.11.2)\n",
            "Requirement already satisfied: urllib3!=1.25.0,!=1.25.1,<1.26,>=1.21.1 in /usr/local/lib/python3.6/dist-packages (from requests->flask-ngrok) (1.24.3)\n",
            "Requirement already satisfied: chardet<4,>=3.0.2 in /usr/local/lib/python3.6/dist-packages (from requests->flask-ngrok) (3.0.4)\n",
            "Requirement already satisfied: certifi>=2017.4.17 in /usr/local/lib/python3.6/dist-packages (from requests->flask-ngrok) (2020.12.5)\n",
            "Requirement already satisfied: idna<3,>=2.5 in /usr/local/lib/python3.6/dist-packages (from requests->flask-ngrok) (2.10)\n",
            "Requirement already satisfied: MarkupSafe>=0.23 in /usr/local/lib/python3.6/dist-packages (from Jinja2>=2.10.1->Flask>=0.8->flask-ngrok) (1.1.1)\n"
          ],
          "name": "stdout"
        }
      ]
    },
    {
      "cell_type": "code",
      "metadata": {
        "id": "Yxhs4oOHXmzI"
      },
      "source": [
        "from flask_ngrok import run_with_ngrok"
      ],
      "execution_count": 9,
      "outputs": []
    },
    {
      "cell_type": "code",
      "metadata": {
        "colab": {
          "base_uri": "https://localhost:8080/",
          "height": 782
        },
        "id": "bX2v6ayTX50h",
        "outputId": "5705875d-faf8-4bcc-ab78-e867b29681db"
      },
      "source": [
        "from flask import Flask, render_template, url_for,request\n",
        "import os\n",
        "\n",
        "PEOPLE_FOLDER = os.path.join('content','static')\n",
        "\n",
        "app = Flask(__name__)\n",
        "app.config['UPLOAD_FOLDER'] = PEOPLE_FOLDER\n",
        "\n",
        "run_with_ngrok(app)\n",
        "\n",
        "\n",
        "@app.route(\"/\",methods=['GET', 'POST'])\n",
        "@app.route(\"/home\")\n",
        "def home():\n",
        "  if request.method == 'GET':\n",
        "    try:\n",
        "      return render_template('index.html')\n",
        "    except Exception as e:\n",
        "      return str(e)\n",
        "\n",
        "@app.route('/success', methods = ['POST'])  \n",
        "def success():  \n",
        "    if request.method == 'POST':  \n",
        "        f = request.files['file']  \n",
        "        f.save(f.filename)   \n",
        "        model_builder = keras.applications.xception.Xception\n",
        "        img_size = (299, 299)\n",
        "        preprocess_input = keras.applications.xception.preprocess_input\n",
        "        decode_predictions = keras.applications.xception.decode_predictions\n",
        "\n",
        "        last_conv_layer_name = \"block14_sepconv2_act\"\n",
        "        classifier_layer_names = [\n",
        "          \"avg_pool\",\n",
        "            \"predictions\",\n",
        "              ] \n",
        "        img_path='/content/1.jpg'\n",
        "        display(Image(img_path))\n",
        "        img_array = preprocess_input(get_img_array(img_path, size=img_size))\n",
        "\n",
        "        model = model_builder(weights=\"imagenet\")\n",
        "\n",
        "        preds = model.predict(img_array)\n",
        "        print(\"Predicted:\", decode_predictions(preds, top=1)[0])\n",
        "\n",
        "        heatmap = make_gradcam_heatmap(\n",
        "        img_array, model, last_conv_layer_name, classifier_layer_names\n",
        "        )\n",
        "        plt.savefig('/content/static/heatmap.jpg')\n",
        "        #plt.matshow(heatmap)\n",
        "        #plt.show()\n",
        "        img = keras.preprocessing.image.load_img(img_path)\n",
        "        img = keras.preprocessing.image.img_to_array(img)\n",
        "\n",
        "        heatmap = np.uint8(255 * heatmap)\n",
        "\n",
        "        jet = cm.get_cmap(\"jet\")\n",
        "\n",
        "        jet_colors = jet(np.arange(256))[:, :3]\n",
        "        jet_heatmap = jet_colors[heatmap]\n",
        "\n",
        "        jet_heatmap = keras.preprocessing.image.array_to_img(jet_heatmap)\n",
        "        jet_heatmap = jet_heatmap.resize((img.shape[1], img.shape[0]))\n",
        "        jet_heatmap = keras.preprocessing.image.img_to_array(jet_heatmap)\n",
        "\n",
        "        superimposed_img = jet_heatmap * 1 + img\n",
        "        superimposed_img = keras.preprocessing.image.array_to_img(superimposed_img)\n",
        "\n",
        "        save_path = \"/content/static/final image.jpg\"\n",
        "        superimposed_img.save(save_path)\n",
        "\n",
        "        #display(Image(save_path))\n",
        "\n",
        "\n",
        "        full_filename = os.path.join(app.config['UPLOAD_FOLDER'], 'final image.jpg')\n",
        "        #full_filename1 = os.path.join(app.config['UPLOAD_FOLDER'], 'heatmap.jpg')\n",
        "        \n",
        "\n",
        "\n",
        "    return render_template('result.html',user_image = full_filename, name = f.filename)\n",
        "\n",
        "\n",
        "@app.route(\"/about\")\n",
        "def about():\n",
        "    return \"<h1>Hello ncksdnWorld</h1>\"\n",
        "\n",
        "\n",
        "\n",
        "app.run()"
      ],
      "execution_count": null,
      "outputs": [
        {
          "output_type": "stream",
          "text": [
            " * Serving Flask app \"__main__\" (lazy loading)\n",
            " * Environment: production\n",
            "\u001b[31m   WARNING: This is a development server. Do not use it in a production deployment.\u001b[0m\n",
            "\u001b[2m   Use a production WSGI server instead.\u001b[0m\n",
            " * Debug mode: off\n"
          ],
          "name": "stdout"
        },
        {
          "output_type": "stream",
          "text": [
            " * Running on http://127.0.0.1:5000/ (Press CTRL+C to quit)\n"
          ],
          "name": "stderr"
        },
        {
          "output_type": "stream",
          "text": [
            " * Running on http://2ec8dd1c9210.ngrok.io\n",
            " * Traffic stats available on http://127.0.0.1:4040\n"
          ],
          "name": "stdout"
        },
        {
          "output_type": "stream",
          "text": [
            "127.0.0.1 - - [28/Dec/2020 11:27:58] \"\u001b[37mGET / HTTP/1.1\u001b[0m\" 200 -\n",
            "127.0.0.1 - - [28/Dec/2020 11:27:59] \"\u001b[33mGET /favicon.ico HTTP/1.1\u001b[0m\" 404 -\n",
            "[2020-12-28 11:28:01,139] ERROR in app: Exception on /success [POST]\n",
            "Traceback (most recent call last):\n",
            "  File \"/usr/local/lib/python3.6/dist-packages/flask/app.py\", line 2447, in wsgi_app\n",
            "    response = self.full_dispatch_request()\n",
            "  File \"/usr/local/lib/python3.6/dist-packages/flask/app.py\", line 1952, in full_dispatch_request\n",
            "    rv = self.handle_user_exception(e)\n",
            "  File \"/usr/local/lib/python3.6/dist-packages/flask/app.py\", line 1821, in handle_user_exception\n",
            "    reraise(exc_type, exc_value, tb)\n",
            "  File \"/usr/local/lib/python3.6/dist-packages/flask/_compat.py\", line 39, in reraise\n",
            "    raise value\n",
            "  File \"/usr/local/lib/python3.6/dist-packages/flask/app.py\", line 1950, in full_dispatch_request\n",
            "    rv = self.dispatch_request()\n",
            "  File \"/usr/local/lib/python3.6/dist-packages/flask/app.py\", line 1936, in dispatch_request\n",
            "    return self.view_functions[rule.endpoint](**req.view_args)\n",
            "  File \"<ipython-input-12-ea805ae66999>\", line 25, in success\n",
            "    f.save(f.filename)\n",
            "  File \"/usr/local/lib/python3.6/dist-packages/werkzeug/datastructures.py\", line 3066, in save\n",
            "    dst = open(dst, \"wb\")\n",
            "FileNotFoundError: [Errno 2] No such file or directory: ''\n",
            "127.0.0.1 - - [28/Dec/2020 11:28:01] \"\u001b[35m\u001b[1mPOST /success HTTP/1.1\u001b[0m\" 500 -\n",
            "127.0.0.1 - - [28/Dec/2020 11:28:06] \"\u001b[37mGET / HTTP/1.1\u001b[0m\" 200 -\n"
          ],
          "name": "stderr"
        },
        {
          "output_type": "display_data",
          "data": {
            "image/jpeg": "[encoded data removed]",
            "text/plain": [
              "<IPython.core.display.Image object>"
            ]
          },
          "metadata": {
            "tags": []
          }
        },
        {
          "output_type": "stream",
          "text": [
            "Predicted: [('n01776313', 'tick', 0.43184558)]\n"
          ],
          "name": "stdout"
        },
        {
          "output_type": "stream",
          "text": [
            "127.0.0.1 - - [28/Dec/2020 11:28:17] \"\u001b[37mPOST /success HTTP/1.1\u001b[0m\" 200 -\n",
            "127.0.0.1 - - [28/Dec/2020 11:28:18] \"\u001b[37mGET /static/final%20image.jpg HTTP/1.1\u001b[0m\" 200 -\n"
          ],
          "name": "stderr"
        }
      ]
    },
    {
      "cell_type": "code",
      "metadata": {
        "id": "ZF-ghmhi7LDy"
      },
      "source": [
        "%mkdir templates -p"
      ],
      "execution_count": 4,
      "outputs": []
    },
    {
      "cell_type": "code",
      "metadata": {
        "colab": {
          "base_uri": "https://localhost:8080/"
        },
        "id": "VIW411KP8IIr",
        "outputId": "9f588857-38c3-45e8-f1a2-638a59f5a054"
      },
      "source": [
        "%%writefile templates/index.html\r\n",
        "<!doctype html>\r\n",
        "<html lang=\"en\">\r\n",
        "\r\n",
        "<html>\r\n",
        "<head>\r\n",
        " <title>SCAM Model</title>\r\n",
        "</head>\r\n",
        "<body>\r\n",
        " <h2>Upload your skin image</h2>\r\n",
        " <form  action = \"/success\" method ='post' enctype=multipart/form-data>\r\n",
        "  <input type=\"file\" name=\"file\">\r\n",
        "  <input type=\"submit\" value=\"rename and download\" onclick=\"initImageUpload()\" />\r\n",
        "    <a id=\"aDownload\">\r\n",
        "    <script>\r\n",
        "    function initImageUpload() {\r\n",
        "        var file = uploadFile.files[0];\r\n",
        "        var a = document.getElementById('aDownload');\r\n",
        "        a.href = file.name;\r\n",
        "\r\n",
        "        var ext = file.name.split('.').pop();\r\n",
        "        var filename = file.name.substring(0, file.name.lastIndexOf('.'));\r\n",
        "          var newFileName = \"new\" + \".\" + ext;//provide the new name here\r\n",
        "\r\n",
        "        a.setAttribute(\"download\", newFileName);\r\n",
        "        a.click();\r\n",
        "    }\r\n",
        "</script>\r\n",
        "</body>\r\n",
        "</html>"
      ],
      "execution_count": 5,
      "outputs": [
        {
          "output_type": "stream",
          "text": [
            "Writing templates/index.html\n"
          ],
          "name": "stdout"
        }
      ]
    },
    {
      "cell_type": "code",
      "metadata": {
        "colab": {
          "base_uri": "https://localhost:8080/"
        },
        "id": "RELY2XbT8nNI",
        "outputId": "dd9b269e-1b11-41fb-a1c3-58f7df3fd76c"
      },
      "source": [
        "%%writefile templates/result.html\r\n",
        "<!doctype html>\r\n",
        "<html lang=\"en\">\r\n",
        "\r\n",
        "<html>\r\n",
        "<head>\r\n",
        " <title>Skin</title>\r\n",
        "</head>\r\n",
        "<body>\r\n",
        " <img src=\"static/final image.jpg\">\r\n",
        " <img src=\"static/heatmap.jpg\" alt=\"Heat Map\">\r\n",
        "\r\n",
        "</body>\r\n",
        "</html>"
      ],
      "execution_count": 6,
      "outputs": [
        {
          "output_type": "stream",
          "text": [
            "Writing templates/result.html\n"
          ],
          "name": "stdout"
        }
      ]
    },
    {
      "cell_type": "code",
      "metadata": {
        "id": "t44rnDI-_9Bt"
      },
      "source": [
        "mkdir static"
      ],
      "execution_count": 7,
      "outputs": []
    },
    {
      "cell_type": "code",
      "metadata": {
        "id": "KpFEEgloGqPp"
      },
      "source": [
        ""
      ],
      "execution_count": 10,
      "outputs": []
    },
    {
      "cell_type": "markdown",
      "metadata": {
        "id": "goqp4dl0Gp8N"
      },
      "source": [
        ""
      ]
    },
    {
      "cell_type": "markdown",
      "metadata": {
        "id": "oBjZXGV8Gp6n"
      },
      "source": [
        ""
      ]
    },
    {
      "cell_type": "markdown",
      "metadata": {
        "id": "_ZFNA0M9Gp3v"
      },
      "source": [
        ""
      ]
    },
    {
      "cell_type": "markdown",
      "metadata": {
        "id": "PWHVEcWuGp1o"
      },
      "source": [
        ""
      ]
    },
    {
      "cell_type": "code",
      "metadata": {
        "id": "KWOH36w2CL7_"
      },
      "source": [
        ""
      ],
      "execution_count": null,
      "outputs": []
    },
    {
      "cell_type": "code",
      "metadata": {
        "id": "jRwluL26GrcX"
      },
      "source": [
        "%%writefile templates/result.html\r\n",
        "<!doctype html>\r\n",
        "<html lang=\"en\">\r\n",
        "\r\n",
        "<html>\r\n",
        "<head>\r\n",
        " <title>Skin</title>\r\n",
        "</head>\r\n",
        "<body>\r\n",
        " <img src=\"/content/1.jpg\" alt=\"Uploaded Image\">\r\n",
        "<img src=\"/content/static/heatmap.jpg\" alt=\"Heat Map\">\r\n",
        "\r\n",
        " <img src=\"/content/static/final image.jpg\" alt=\"Generated Cam Model\">\r\n",
        "\r\n",
        "</body>\r\n",
        "</html>"
      ],
      "execution_count": null,
      "outputs": []
    }
  ]
}