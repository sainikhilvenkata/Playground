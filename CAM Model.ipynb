{
  "nbformat": 4,
  "nbformat_minor": 0,
  "metadata": {
    "colab": {
      "name": "Copy of GUI.ipynb",
      "provenance": [],
      "collapsed_sections": [],
      "include_colab_link": true
    },
    "kernelspec": {
      "name": "python3",
      "display_name": "Python 3"
    }
  },
  "cells": [
    {
      "cell_type": "markdown",
      "metadata": {
        "id": "view-in-github",
        "colab_type": "text"
      },
      "source": [
        "<a href=\"https://colab.research.google.com/github/sainikhilvenkata/Playground/blob/master/CAM%20Model.ipynb\" target=\"_parent\"><img src=\"https://colab.research.google.com/assets/colab-badge.svg\" alt=\"Open In Colab\"/></a>"
      ]
    },
    {
      "cell_type": "code",
      "metadata": {
        "id": "BsIEHkzEWSm-"
      },
      "source": [
        "import numpy as np\n",
        "import tensorflow as tf\n",
        "from tensorflow import keras\n",
        "\n",
        "from IPython.display import Image\n",
        "import matplotlib.pyplot as plt\n",
        "import matplotlib.cm as cm\n"
      ],
      "execution_count": null,
      "outputs": []
    },
    {
      "cell_type": "code",
      "metadata": {
        "id": "JzrVoxs-WWxS"
      },
      "source": [
        ""
      ],
      "execution_count": null,
      "outputs": []
    },
    {
      "cell_type": "code",
      "metadata": {
        "id": "N2DIom_TWaOp"
      },
      "source": [
        "\n",
        "def get_img_array(img_path, size):\n",
        "    img = keras.preprocessing.image.load_img(img_path, target_size=size)\n",
        "    array = keras.preprocessing.image.img_to_array(img)\n",
        "    array = np.expand_dims(array, axis=0)\n",
        "    return array\n",
        "\n",
        "\n",
        "def make_gradcam_heatmap(\n",
        "    img_array, model, last_conv_layer_name, classifier_layer_names\n",
        "):\n",
        "    last_conv_layer = model.get_layer(last_conv_layer_name)\n",
        "    last_conv_layer_model = keras.Model(model.inputs, last_conv_layer.output)\n",
        "\n",
        "    classifier_input = keras.Input(shape=last_conv_layer.output.shape[1:])\n",
        "    x = classifier_input\n",
        "    for layer_name in classifier_layer_names:\n",
        "        x = model.get_layer(layer_name)(x)\n",
        "    classifier_model = keras.Model(classifier_input, x)\n",
        "\n",
        "    with tf.GradientTape() as tape:\n",
        "        last_conv_layer_output = last_conv_layer_model(img_array)\n",
        "        tape.watch(last_conv_layer_output)\n",
        "        preds = classifier_model(last_conv_layer_output)\n",
        "        top_pred_index = tf.argmax(preds[0])\n",
        "        top_class_channel = preds[:, top_pred_index]\n",
        "\n",
        "    grads = tape.gradient(top_class_channel, last_conv_layer_output)\n",
        "\n",
        "    pooled_grads = tf.reduce_mean(grads, axis=(0, 1, 2))\n",
        "\n",
        "    last_conv_layer_output = last_conv_layer_output.numpy()[0]\n",
        "    pooled_grads = pooled_grads.numpy()\n",
        "    for i in range(pooled_grads.shape[-1]):\n",
        "        last_conv_layer_output[:, :, i] *= pooled_grads[i]\n",
        "\n",
        "    heatmap = np.mean(last_conv_layer_output, axis=-1)\n",
        "    heatmap = np.maximum(heatmap, 0) / np.max(heatmap)\n",
        "    return heatmap\n",
        "\n"
      ],
      "execution_count": null,
      "outputs": []
    },
    {
      "cell_type": "code",
      "metadata": {
        "id": "7At-KV0DWc6k"
      },
      "source": [
        "\n",
        "%mkdir templates -p"
      ],
      "execution_count": null,
      "outputs": []
    },
    {
      "cell_type": "code",
      "metadata": {
        "id": "85Z6lSXzWfeg",
        "colab": {
          "base_uri": "https://localhost:8080/"
        },
        "outputId": "96ee382b-be16-4844-8d65-fed08915b476"
      },
      "source": [
        "%%writefile templates/index.html\n",
        "<!doctype html>\n",
        "<html lang=\"en\">\n",
        "\n",
        "<html>\n",
        "<style>\n",
        ".header {\n",
        "  padding: 60px;\n",
        "  text-align: center;\n",
        "  background: #1abc9c;\n",
        "  color: white;\n",
        "  font-size: 30px;\n",
        "}\n",
        "\n",
        ".button {\n",
        "  background-color: darkblue;\n",
        "  border: none;\n",
        "  color: white;\n",
        "  padding: 15px 32px;\n",
        "  text-align: center;\n",
        "  text-decoration: none;\n",
        "  display: inline-block;\n",
        "  font-size: 16px;\n",
        "  margin: 4px 2px;\n",
        "  cursor: pointer;\n",
        "}\n",
        "\n",
        ".footer {\n",
        "   position: fixed;\n",
        "   left: 0;\n",
        "   bottom: 0;\n",
        "   width: 100%;\n",
        "   background-color: darkblue;\n",
        "   color: white;\n",
        "   text-align: center;\n",
        "   font-size: 18px;\n",
        "   \n",
        "}\n",
        "\n",
        "hr.new4 {\n",
        "  border-top: 5px solid darkblue;\n",
        "}\n",
        "</style>\n",
        "<head>\n",
        " <title>CAM Model</title>\n",
        "</head>\n",
        "\n",
        "<body>\n",
        "\n",
        "<div style=\"display: flex\">\n",
        "<img src=\"https://www.sastra.edu/virtual_class/images/sastralogo.png\" alt=\"alternatetext\" width=\"28%\" height=\"4%\">\n",
        "<div style=\"margin-left: 19%;margin-top: 3%\"><h1>MINI PROGECT GUI</h1></div>\n",
        "</div>\n",
        "<hr class=\"new4\">\n",
        "<h1 style=\"margin-left: 10%\">A Mutual Bootstrapping Model for Automated Skin Lesion Segmentation and Classification\n",
        "</h1>\n",
        "\n",
        "<div style=\"color: darkblue;font-size: 20px;\">\n",
        "<p style=\"float: right;font-weight: bold;\" > Guided By : Premladha J</p>\n",
        "<p style=\"font-weight: bold;\">Done By :</p>\n",
        "  <ol>\n",
        "\t<li>Aditya Gattu</li>\n",
        "\t<li>Vagicherla Sai Nikhil</li>\n",
        "\t<li> Uppalapati Saketh</li>\n",
        "  </ol>\n",
        "</div>\n",
        "\n",
        "    <h3 style=\"text-align: center;color: darkblue;font-size: 23px\">Upload your skin lesion image for CAM Model generation</h3>\n",
        "    <div style=\"text-align: center\">\n",
        "\n",
        "    <form  action = \"/success\" method ='post' enctype=multipart/form-data>\n",
        "      <input type=\"file\" name=\"file\" >\n",
        "      <input type=\"submit\" value=\"Upload image\" class=\"button\" onclick=\"initImageUpload()\" />\n",
        "      <a id=\"aDownload\">\n",
        "    </div>\n",
        "    \n",
        "     <div class=\"footer\">\n",
        "        <p>Sastra Deemed to be University</p>\n",
        "    </div>\n",
        "    <script>\n",
        "    function initImageUpload() {\n",
        "        var file = uploadFile.files[0];\n",
        "        var a = document.getElementById('aDownload');\n",
        "        a.href = file.name;\n",
        "\n",
        "        var ext = file.name.split('.').pop();\n",
        "        var filename = file.name.substring(0, file.name.lastIndexOf('.'));\n",
        "          var newFileName = \"new\" + \".\" + ext;//provide the new name here\n",
        "\n",
        "        a.setAttribute(\"download\", newFileName);\n",
        "        a.click();\n",
        "    }\n",
        "    </script>\n",
        "</body>\n",
        "</html>\n",
        "\n"
      ],
      "execution_count": null,
      "outputs": [
        {
          "output_type": "stream",
          "text": [
            "Overwriting templates/index.html\n"
          ],
          "name": "stdout"
        }
      ]
    },
    {
      "cell_type": "code",
      "metadata": {
        "id": "dKri8jLpQObB",
        "colab": {
          "base_uri": "https://localhost:8080/"
        },
        "outputId": "009c781c-fc04-4d32-ac01-24713417a0a7"
      },
      "source": [
        "%%writefile templates/result.html\r\n",
        "<!doctype html>\r\n",
        "<html lang=\"en\">\r\n",
        "<style>\r\n",
        ".header {\r\n",
        "  padding: 60px;\r\n",
        "  text-align: center;\r\n",
        "  background: #1abc9c;\r\n",
        "  color: white;\r\n",
        "  font-size: 30px;\r\n",
        "}\r\n",
        ".footer {\r\n",
        "   position: fixed;\r\n",
        "   left: 0;\r\n",
        "   bottom: 0;\r\n",
        "   width: 100%;\r\n",
        "   background-color: darkblue;\r\n",
        "   color: white;\r\n",
        "   text-align: center;\r\n",
        "   font-size: 18px;\r\n",
        "   \r\n",
        "}\r\n",
        "hr.new4 {\r\n",
        "  border-top: 5px solid darkblue;\r\n",
        "}\r\n",
        "</style>\r\n",
        "<html>\r\n",
        "<head>\r\n",
        " <title>Skin</title>\r\n",
        "</head>\r\n",
        "<body>\r\n",
        "\r\n",
        "<div style=\"display: flex\">\r\n",
        "<img src=\"https://www.sastra.edu/virtual_class/images/sastralogo.png\" alt=\"alternatetext\" width=\"28%\" height=\"4%\">\r\n",
        "<div style=\"margin-left: 19%;margin-top: 3%\"><h1>MINI PROGECT GUI</h1></div>\r\n",
        "</div>\r\n",
        "<hr class=\"new4\">\r\n",
        "<h1 style=\"margin-left: 20%\">Output For Cam Model\r\n",
        "</h1>\r\n",
        "<p style=\"margin-left: 30%\">\r\n",
        " <img src=\"static/final image.jpg\">\r\n",
        " \r\n",
        "</p>\r\n",
        "<div class=\"footer\">\r\n",
        "        <p>Sastra Deemed to be University</p>\r\n",
        "    </div>\r\n",
        "</body>\r\n",
        "</html>"
      ],
      "execution_count": null,
      "outputs": [
        {
          "output_type": "stream",
          "text": [
            "Overwriting templates/result.html\n"
          ],
          "name": "stdout"
        }
      ]
    },
    {
      "cell_type": "code",
      "metadata": {
        "id": "sVJb-Yq_XX0L",
        "colab": {
          "base_uri": "https://localhost:8080/"
        },
        "outputId": "ff3832b8-3296-4873-f922-14976da1ea5d"
      },
      "source": [
        "!pip install flask-ngrok"
      ],
      "execution_count": null,
      "outputs": [
        {
          "output_type": "stream",
          "text": [
            "Requirement already satisfied: flask-ngrok in /usr/local/lib/python3.6/dist-packages (0.0.25)\n",
            "Requirement already satisfied: Flask>=0.8 in /usr/local/lib/python3.6/dist-packages (from flask-ngrok) (1.1.2)\n",
            "Requirement already satisfied: requests in /usr/local/lib/python3.6/dist-packages (from flask-ngrok) (2.23.0)\n",
            "Requirement already satisfied: itsdangerous>=0.24 in /usr/local/lib/python3.6/dist-packages (from Flask>=0.8->flask-ngrok) (1.1.0)\n",
            "Requirement already satisfied: click>=5.1 in /usr/local/lib/python3.6/dist-packages (from Flask>=0.8->flask-ngrok) (7.1.2)\n",
            "Requirement already satisfied: Werkzeug>=0.15 in /usr/local/lib/python3.6/dist-packages (from Flask>=0.8->flask-ngrok) (1.0.1)\n",
            "Requirement already satisfied: Jinja2>=2.10.1 in /usr/local/lib/python3.6/dist-packages (from Flask>=0.8->flask-ngrok) (2.11.2)\n",
            "Requirement already satisfied: chardet<4,>=3.0.2 in /usr/local/lib/python3.6/dist-packages (from requests->flask-ngrok) (3.0.4)\n",
            "Requirement already satisfied: urllib3!=1.25.0,!=1.25.1,<1.26,>=1.21.1 in /usr/local/lib/python3.6/dist-packages (from requests->flask-ngrok) (1.24.3)\n",
            "Requirement already satisfied: idna<3,>=2.5 in /usr/local/lib/python3.6/dist-packages (from requests->flask-ngrok) (2.10)\n",
            "Requirement already satisfied: certifi>=2017.4.17 in /usr/local/lib/python3.6/dist-packages (from requests->flask-ngrok) (2020.12.5)\n",
            "Requirement already satisfied: MarkupSafe>=0.23 in /usr/local/lib/python3.6/dist-packages (from Jinja2>=2.10.1->Flask>=0.8->flask-ngrok) (1.1.1)\n"
          ],
          "name": "stdout"
        }
      ]
    },
    {
      "cell_type": "code",
      "metadata": {
        "id": "fm840sPtQWXl",
        "colab": {
          "base_uri": "https://localhost:8080/"
        },
        "outputId": "116e2bd1-fcf8-45e8-c731-8caefdd3bedd"
      },
      "source": [
        "mkdir static"
      ],
      "execution_count": null,
      "outputs": [
        {
          "output_type": "stream",
          "text": [
            "mkdir: cannot create directory ‘static’: File exists\n"
          ],
          "name": "stdout"
        }
      ]
    },
    {
      "cell_type": "code",
      "metadata": {
        "id": "Yxhs4oOHXmzI"
      },
      "source": [
        "from flask_ngrok import run_with_ngrok"
      ],
      "execution_count": null,
      "outputs": []
    },
    {
      "cell_type": "code",
      "metadata": {
        "id": "bX2v6ayTX50h",
        "colab": {
          "base_uri": "https://localhost:8080/",
          "height": 442
        },
        "outputId": "ed7677d6-68bc-4a86-c381-ada24ab0a987"
      },
      "source": [
        "from flask import Flask, render_template, url_for,request\n",
        "import os\n",
        "\n",
        "PEOPLE_FOLDER = os.path.join('content','static')\n",
        "\n",
        "app = Flask(__name__)\n",
        "app.config['UPLOAD_FOLDER'] = PEOPLE_FOLDER\n",
        "\n",
        "run_with_ngrok(app)\n",
        "\n",
        "\n",
        "@app.route(\"/\",methods=['GET', 'POST'])\n",
        "@app.route(\"/home\")\n",
        "def home():\n",
        "  if request.method == 'GET':\n",
        "    try:\n",
        "      return render_template('index.html')\n",
        "    except Exception as e:\n",
        "      return str(e)\n",
        "\n",
        "@app.route('/success', methods = ['POST'])  \n",
        "def success():  \n",
        "    if request.method == 'POST':  \n",
        "        f = request.files['file']  \n",
        "        f.save(f.filename)   \n",
        "        model_builder = keras.applications.xception.Xception\n",
        "        img_size = (299, 299)\n",
        "        preprocess_input = keras.applications.xception.preprocess_input\n",
        "        decode_predictions = keras.applications.xception.decode_predictions\n",
        "\n",
        "        last_conv_layer_name = \"block14_sepconv2_act\"\n",
        "        classifier_layer_names = [\n",
        "          \"avg_pool\",\n",
        "            \"predictions\",\n",
        "              ] \n",
        "        img_path='/content/1.jpg'\n",
        "        display(Image(img_path))\n",
        "        img_array = preprocess_input(get_img_array(img_path, size=img_size))\n",
        "\n",
        "        model = model_builder(weights=\"imagenet\")\n",
        "\n",
        "        preds = model.predict(img_array)\n",
        "        print(\"Predicted:\", decode_predictions(preds, top=1)[0])\n",
        "\n",
        "        heatmap = make_gradcam_heatmap(\n",
        "        img_array, model, last_conv_layer_name, classifier_layer_names\n",
        "        )\n",
        "        plt.savefig('/content/static/heatmap.jpg')\n",
        "        #plt.matshow(heatmap)\n",
        "        #plt.show()\n",
        "        img = keras.preprocessing.image.load_img(img_path)\n",
        "        img = keras.preprocessing.image.img_to_array(img)\n",
        "\n",
        "        heatmap = np.uint8(255 * heatmap)\n",
        "\n",
        "        jet = cm.get_cmap(\"jet\")\n",
        "\n",
        "        jet_colors = jet(np.arange(256))[:, :3]\n",
        "        jet_heatmap = jet_colors[heatmap]\n",
        "\n",
        "        jet_heatmap = keras.preprocessing.image.array_to_img(jet_heatmap)\n",
        "        jet_heatmap = jet_heatmap.resize((img.shape[1], img.shape[0]))\n",
        "        jet_heatmap = keras.preprocessing.image.img_to_array(jet_heatmap)\n",
        "\n",
        "        superimposed_img = jet_heatmap * 1 + img\n",
        "        superimposed_img = keras.preprocessing.image.array_to_img(superimposed_img)\n",
        "\n",
        "        save_path = \"/content/static/final image.jpg\"\n",
        "        superimposed_img.save(save_path)\n",
        "\n",
        "        #display(Image(save_path))\n",
        "\n",
        "\n",
        "        full_filename = os.path.join(app.config['UPLOAD_FOLDER'], 'final image.jpg')\n",
        "        #full_filename1 = os.path.join(app.config['UPLOAD_FOLDER'], 'heatmap.jpg')\n",
        "        \n",
        "\n",
        "\n",
        "    return render_template('result.html',user_image = full_filename, name = f.filename)\n",
        "\n",
        "\n",
        "@app.route(\"/about\")\n",
        "def about():\n",
        "    return \"<h1>Hello ncksdnWorld</h1>\"\n",
        "\n",
        "\n",
        "\n",
        "app.run()"
      ],
      "execution_count": null,
      "outputs": [
        {
          "output_type": "stream",
          "text": [
            " * Serving Flask app \"__main__\" (lazy loading)\n",
            " * Environment: production\n",
            "\u001b[31m   WARNING: This is a development server. Do not use it in a production deployment.\u001b[0m\n",
            "\u001b[2m   Use a production WSGI server instead.\u001b[0m\n",
            " * Debug mode: off\n"
          ],
          "name": "stdout"
        },
        {
          "output_type": "stream",
          "text": [
            " * Running on http://127.0.0.1:5000/ (Press CTRL+C to quit)\n"
          ],
          "name": "stderr"
        },
        {
          "output_type": "stream",
          "text": [
            " * Running on http://fc2ca12a8a51.ngrok.io\n",
            " * Traffic stats available on http://127.0.0.1:4040\n"
          ],
          "name": "stdout"
        },
        {
          "output_type": "stream",
          "text": [
            "127.0.0.1 - - [29/Dec/2020 06:56:10] \"\u001b[37mGET / HTTP/1.1\u001b[0m\" 200 -\n",
            "127.0.0.1 - - [29/Dec/2020 06:56:11] \"\u001b[33mGET /favicon.ico HTTP/1.1\u001b[0m\" 404 -\n"
          ],
          "name": "stderr"
        },
        {
          "output_type": "display_data",
          "data": {
            "image/jpeg": "[encoded data removed]",
            "text/plain": [
              "<IPython.core.display.Image object>"
            ]
          },
          "metadata": {
            "tags": []
          }
        },
        {
          "output_type": "stream",
          "text": [
            "Predicted: [('n01776313', 'tick', 0.43184558)]\n"
          ],
          "name": "stdout"
        },
        {
          "output_type": "stream",
          "text": [
            "127.0.0.1 - - [29/Dec/2020 06:56:25] \"\u001b[37mPOST /success HTTP/1.1\u001b[0m\" 200 -\n",
            "127.0.0.1 - - [29/Dec/2020 06:56:26] \"\u001b[37mGET /static/final%20image.jpg HTTP/1.1\u001b[0m\" 200 -\n"
          ],
          "name": "stderr"
        },
        {
          "output_type": "display_data",
          "data": {
            "text/plain": [
              "<Figure size 432x288 with 0 Axes>"
            ]
          },
          "metadata": {
            "tags": []
          }
        }
      ]
    },
    {
      "cell_type": "code",
      "metadata": {
        "id": "bSitxqDES-H5"
      },
      "source": [
        ""
      ],
      "execution_count": null,
      "outputs": []
    }
  ]
}